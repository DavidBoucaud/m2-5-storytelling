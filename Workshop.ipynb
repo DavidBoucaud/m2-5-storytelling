{
 "cells": [
  {
   "cell_type": "markdown",
   "metadata": {},
   "source": [
    "# 1. EDB Score \n",
    "\n",
    "In `data/DBData.csv`, you have the full \"ease of doing business\" dataset from the World Bank. Reformat it into the **Tidy Data** format, so one row is per-year-per-country\n",
    "\n",
    "Result should look like:\n",
    "\n",
    "![](EDB_unstack.png)"
   ]
  },
  {
   "cell_type": "markdown",
   "metadata": {},
   "source": [
    "# 2 GDP and ease of doing business\n",
    "\n",
    "Using the additional data in `data/GDPpc.csv`, join the clean dataset in **1** to the GDP data.\n",
    "\n",
    "**What are the 3 Ease of Doing Business variables most closely linked to GDP?**\n",
    "\n",
    "Answer by giving their correlation ratio, and give a possible explanation and a data visualization\n",
    "\n",
    "**hint:** trying to do `df.corr()` or `sns.pairplot()` on the whole dataset will crash most computers. Be smart about the number of columns you're testing at once."
   ]
  },
  {
   "cell_type": "markdown",
   "metadata": {},
   "source": [
    "# 3. Chocolate Nobel question\n",
    "\n",
    "In this repository is the academic paper `chocolate_nobel.pdf`. \n",
    "\n",
    "Explain in 3 paragraphs why this paper's conclusions are bad statistics."
   ]
  }
 ],
 "metadata": {
  "kernelspec": {
   "display_name": "Python 3",
   "language": "python",
   "name": "python3"
  },
  "language_info": {
   "codemirror_mode": {
    "name": "ipython",
    "version": 3
   },
   "file_extension": ".py",
   "mimetype": "text/x-python",
   "name": "python",
   "nbconvert_exporter": "python",
   "pygments_lexer": "ipython3",
   "version": "3.7.4"
  }
 },
 "nbformat": 4,
 "nbformat_minor": 4
}
